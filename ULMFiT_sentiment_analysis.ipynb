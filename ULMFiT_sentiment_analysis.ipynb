{
  "nbformat": 4,
  "nbformat_minor": 0,
  "metadata": {
    "accelerator": "GPU",
    "colab": {
      "name": "ULMFiT_sentiment_analysis.ipynb",
      "provenance": [],
      "toc_visible": true
    },
    "kernelspec": {
      "display_name": "Python 3",
      "language": "python",
      "name": "python3"
    },
    "language_info": {
      "codemirror_mode": {
        "name": "ipython",
        "version": 3
      },
      "file_extension": ".py",
      "mimetype": "text/x-python",
      "name": "python",
      "nbconvert_exporter": "python",
      "pygments_lexer": "ipython3",
      "version": "3.5.2"
    }
  },
  "cells": [
    {
      "cell_type": "markdown",
      "metadata": {
        "id": "ysr_oy94f86J",
        "colab_type": "text"
      },
      "source": [
        "# Twitter US Airline Sentiment Analysis using ULMFiT\n",
        "\n",
        "In this notebook, I fine-tune a forward and backward langauge ULMFiT model to get to <b>84.22%</b> accuracy on the Twitter US Airline Sentiment dataset available on kaggle at https://www.kaggle.com/crowdflower/twitter-airline-sentiment/data#.\n",
        "I have used the techniques described in https://arxiv.org/pdf/1801.06146.pdf and https://course.fast.ai/videos/?lesson=12 as the main reference for this sentiment analysis.\n",
        "\n",
        "These techniques include:\n",
        "<ul>\n",
        "    <li>Discriminative fine-tuning</li>\n",
        "    <li>Slanted triangular learning rates</li>\n",
        "    <li>Gradual unfreezing</li>\n",
        "</ul>\n",
        "I have cited my sources for the techniques applied along with my reasoning for each step within the text blocks preceeding the code implemented.\n"
      ]
    },
    {
      "cell_type": "code",
      "metadata": {
        "colab_type": "code",
        "id": "WH1vD2CIpUXw",
        "colab": {
          "base_uri": "https://localhost:8080/",
          "height": 84
        },
        "outputId": "a3a0c816-24af-4bc5-9668-cfde5420e748"
      },
      "source": [
        "import pandas as pd\n",
        "import matplotlib.pyplot as plt\n",
        "import seaborn as sns\n",
        "from fastai.text import *\n",
        "import nltk\n",
        "nltk.download('punkt')\n",
        "nltk.download('wordnet')\n",
        "from nltk.corpus import wordnet\n",
        "from nltk.tokenize import word_tokenize"
      ],
      "execution_count": 49,
      "outputs": [
        {
          "output_type": "stream",
          "text": [
            "[nltk_data] Downloading package punkt to /root/nltk_data...\n",
            "[nltk_data]   Package punkt is already up-to-date!\n",
            "[nltk_data] Downloading package wordnet to /root/nltk_data...\n",
            "[nltk_data]   Package wordnet is already up-to-date!\n"
          ],
          "name": "stdout"
        }
      ]
    },
    {
      "cell_type": "markdown",
      "metadata": {
        "id": "p-nBi9ixf86Y",
        "colab_type": "text"
      },
      "source": [
        "## Visualizing and Preprocessing the data\n",
        "\n",
        "The first step is to load and explore the data. Since the aim of the notebook is to use an RNN for the prediction of sentiment, the text column becomes the richest source of data for the sentiment analysis in the dataset. However the other data does also provide some keen insights into the structuring of the data which can offer information about the structure of this dataset.\n",
        "\n",
        "### References:<br>\n",
        "https://www.kaggle.com/wesleyliao3/sentiment-analysis-using-rnn-lstm-ulmfit <br>\n",
        "https://www.kaggle.com/sanjanavoona1043/sentimental-analysis-using-nlp-for-begineers <br>\n",
        "https://www.kaggle.com/anjanatiha/sentiment-analysis-with-lstm-cnn <br>\n",
        "https://www.kaggle.com/nursah/airline-tweets-sentiment-analysis <br>\n"
      ]
    },
    {
      "cell_type": "code",
      "metadata": {
        "colab_type": "code",
        "id": "uZvK3hsrrKRJ",
        "colab": {
          "base_uri": "https://localhost:8080/",
          "height": 434
        },
        "outputId": "4f2b0d4d-49f1-4c2f-b5da-1213b19b8607"
      },
      "source": [
        "df =  pd.read_csv('Tweets.csv')#loading the dataset\n",
        "df.head() #previewing the intial columns of the dataset"
      ],
      "execution_count": 50,
      "outputs": [
        {
          "output_type": "execute_result",
          "data": {
            "text/html": [
              "<div>\n",
              "<style scoped>\n",
              "    .dataframe tbody tr th:only-of-type {\n",
              "        vertical-align: middle;\n",
              "    }\n",
              "\n",
              "    .dataframe tbody tr th {\n",
              "        vertical-align: top;\n",
              "    }\n",
              "\n",
              "    .dataframe thead th {\n",
              "        text-align: right;\n",
              "    }\n",
              "</style>\n",
              "<table border=\"1\" class=\"dataframe\">\n",
              "  <thead>\n",
              "    <tr style=\"text-align: right;\">\n",
              "      <th></th>\n",
              "      <th>tweet_id</th>\n",
              "      <th>airline_sentiment</th>\n",
              "      <th>airline_sentiment_confidence</th>\n",
              "      <th>negativereason</th>\n",
              "      <th>negativereason_confidence</th>\n",
              "      <th>airline</th>\n",
              "      <th>airline_sentiment_gold</th>\n",
              "      <th>name</th>\n",
              "      <th>negativereason_gold</th>\n",
              "      <th>retweet_count</th>\n",
              "      <th>text</th>\n",
              "      <th>tweet_coord</th>\n",
              "      <th>tweet_created</th>\n",
              "      <th>tweet_location</th>\n",
              "      <th>user_timezone</th>\n",
              "    </tr>\n",
              "  </thead>\n",
              "  <tbody>\n",
              "    <tr>\n",
              "      <th>0</th>\n",
              "      <td>570306133677760513</td>\n",
              "      <td>neutral</td>\n",
              "      <td>1.0000</td>\n",
              "      <td>NaN</td>\n",
              "      <td>NaN</td>\n",
              "      <td>Virgin America</td>\n",
              "      <td>NaN</td>\n",
              "      <td>cairdin</td>\n",
              "      <td>NaN</td>\n",
              "      <td>0</td>\n",
              "      <td>@VirginAmerica What @dhepburn said.</td>\n",
              "      <td>NaN</td>\n",
              "      <td>2015-02-24 11:35:52 -0800</td>\n",
              "      <td>NaN</td>\n",
              "      <td>Eastern Time (US &amp; Canada)</td>\n",
              "    </tr>\n",
              "    <tr>\n",
              "      <th>1</th>\n",
              "      <td>570301130888122368</td>\n",
              "      <td>positive</td>\n",
              "      <td>0.3486</td>\n",
              "      <td>NaN</td>\n",
              "      <td>0.0000</td>\n",
              "      <td>Virgin America</td>\n",
              "      <td>NaN</td>\n",
              "      <td>jnardino</td>\n",
              "      <td>NaN</td>\n",
              "      <td>0</td>\n",
              "      <td>@VirginAmerica plus you've added commercials t...</td>\n",
              "      <td>NaN</td>\n",
              "      <td>2015-02-24 11:15:59 -0800</td>\n",
              "      <td>NaN</td>\n",
              "      <td>Pacific Time (US &amp; Canada)</td>\n",
              "    </tr>\n",
              "    <tr>\n",
              "      <th>2</th>\n",
              "      <td>570301083672813571</td>\n",
              "      <td>neutral</td>\n",
              "      <td>0.6837</td>\n",
              "      <td>NaN</td>\n",
              "      <td>NaN</td>\n",
              "      <td>Virgin America</td>\n",
              "      <td>NaN</td>\n",
              "      <td>yvonnalynn</td>\n",
              "      <td>NaN</td>\n",
              "      <td>0</td>\n",
              "      <td>@VirginAmerica I didn't today... Must mean I n...</td>\n",
              "      <td>NaN</td>\n",
              "      <td>2015-02-24 11:15:48 -0800</td>\n",
              "      <td>Lets Play</td>\n",
              "      <td>Central Time (US &amp; Canada)</td>\n",
              "    </tr>\n",
              "    <tr>\n",
              "      <th>3</th>\n",
              "      <td>570301031407624196</td>\n",
              "      <td>negative</td>\n",
              "      <td>1.0000</td>\n",
              "      <td>Bad Flight</td>\n",
              "      <td>0.7033</td>\n",
              "      <td>Virgin America</td>\n",
              "      <td>NaN</td>\n",
              "      <td>jnardino</td>\n",
              "      <td>NaN</td>\n",
              "      <td>0</td>\n",
              "      <td>@VirginAmerica it's really aggressive to blast...</td>\n",
              "      <td>NaN</td>\n",
              "      <td>2015-02-24 11:15:36 -0800</td>\n",
              "      <td>NaN</td>\n",
              "      <td>Pacific Time (US &amp; Canada)</td>\n",
              "    </tr>\n",
              "    <tr>\n",
              "      <th>4</th>\n",
              "      <td>570300817074462722</td>\n",
              "      <td>negative</td>\n",
              "      <td>1.0000</td>\n",
              "      <td>Can't Tell</td>\n",
              "      <td>1.0000</td>\n",
              "      <td>Virgin America</td>\n",
              "      <td>NaN</td>\n",
              "      <td>jnardino</td>\n",
              "      <td>NaN</td>\n",
              "      <td>0</td>\n",
              "      <td>@VirginAmerica and it's a really big bad thing...</td>\n",
              "      <td>NaN</td>\n",
              "      <td>2015-02-24 11:14:45 -0800</td>\n",
              "      <td>NaN</td>\n",
              "      <td>Pacific Time (US &amp; Canada)</td>\n",
              "    </tr>\n",
              "  </tbody>\n",
              "</table>\n",
              "</div>"
            ],
            "text/plain": [
              "             tweet_id  ...               user_timezone\n",
              "0  570306133677760513  ...  Eastern Time (US & Canada)\n",
              "1  570301130888122368  ...  Pacific Time (US & Canada)\n",
              "2  570301083672813571  ...  Central Time (US & Canada)\n",
              "3  570301031407624196  ...  Pacific Time (US & Canada)\n",
              "4  570300817074462722  ...  Pacific Time (US & Canada)\n",
              "\n",
              "[5 rows x 15 columns]"
            ]
          },
          "metadata": {
            "tags": []
          },
          "execution_count": 50
        }
      ]
    },
    {
      "cell_type": "code",
      "metadata": {
        "colab_type": "code",
        "id": "ypNltgHTunE-",
        "colab": {
          "base_uri": "https://localhost:8080/",
          "height": 286
        },
        "outputId": "ba859c0d-6934-4e05-dd2b-dbedd83d9267"
      },
      "source": [
        "df.isna().sum()#looking for null values in the columns\n",
        "#particularly in the tweet and airline sentiment columns which are of primary focus"
      ],
      "execution_count": 51,
      "outputs": [
        {
          "output_type": "execute_result",
          "data": {
            "text/plain": [
              "tweet_id                            0\n",
              "airline_sentiment                   0\n",
              "airline_sentiment_confidence        0\n",
              "negativereason                   5462\n",
              "negativereason_confidence        4118\n",
              "airline                             0\n",
              "airline_sentiment_gold          14600\n",
              "name                                0\n",
              "negativereason_gold             14608\n",
              "retweet_count                       0\n",
              "text                                0\n",
              "tweet_coord                     13621\n",
              "tweet_created                       0\n",
              "tweet_location                   4733\n",
              "user_timezone                    4820\n",
              "dtype: int64"
            ]
          },
          "metadata": {
            "tags": []
          },
          "execution_count": 51
        }
      ]
    },
    {
      "cell_type": "code",
      "metadata": {
        "colab_type": "code",
        "id": "90JmV7LRu3Ok",
        "colab": {
          "base_uri": "https://localhost:8080/",
          "height": 370
        },
        "outputId": "5656a0dd-e0aa-4713-f570-f847329f895b"
      },
      "source": [
        "df['airline_sentiment'].value_counts().plot(kind='bar') # Exploring the distribution of the sentiments accross the dataset as a whole"
      ],
      "execution_count": 52,
      "outputs": [
        {
          "output_type": "execute_result",
          "data": {
            "text/plain": [
              "<matplotlib.axes._subplots.AxesSubplot at 0x7fb5356b60b8>"
            ]
          },
          "metadata": {
            "tags": []
          },
          "execution_count": 52
        },
        {
          "output_type": "display_data",
          "data": {
            "image/png": "[encoded data removed]",
            "text/plain": [
              "<Figure size 1080x360 with 1 Axes>"
            ]
          },
          "metadata": {
            "tags": [],
            "needs_background": "light"
          }
        }
      ]
    },
    {
      "cell_type": "code",
      "metadata": {
        "colab_type": "code",
        "id": "EQxB-Y2ZvXzc",
        "colab": {
          "base_uri": "https://localhost:8080/",
          "height": 403
        },
        "outputId": "4b444be0-1251-4103-e691-e540f3a415e4"
      },
      "source": [
        "df['airline'].value_counts().plot(kind='bar') # Exploring the distribution of the samples for each airline"
      ],
      "execution_count": 53,
      "outputs": [
        {
          "output_type": "execute_result",
          "data": {
            "text/plain": [
              "<matplotlib.axes._subplots.AxesSubplot at 0x7fb5356214a8>"
            ]
          },
          "metadata": {
            "tags": []
          },
          "execution_count": 53
        },
        {
          "output_type": "display_data",
          "data": {
            "image/png": "[encoded data removed]",
            "text/plain": [
              "<Figure size 1080x360 with 1 Axes>"
            ]
          },
          "metadata": {
            "tags": [],
            "needs_background": "light"
          }
        }
      ]
    },
    {
      "cell_type": "code",
      "metadata": {
        "colab_type": "code",
        "id": "NAuJOKpMvgwm",
        "colab": {
          "base_uri": "https://localhost:8080/",
          "height": 419
        },
        "outputId": "73823f2f-31ef-40a5-a7bb-7b2fa180d091"
      },
      "source": [
        "airline_sentiment = df.groupby(['airline', 'airline_sentiment']).airline_sentiment.count().unstack()\n",
        "airline_sentiment.plot(kind='bar') # Exploring the distribution of sentiments according to each airline"
      ],
      "execution_count": 54,
      "outputs": [
        {
          "output_type": "execute_result",
          "data": {
            "text/plain": [
              "<matplotlib.axes._subplots.AxesSubplot at 0x7fb5355b8dd8>"
            ]
          },
          "metadata": {
            "tags": []
          },
          "execution_count": 54
        },
        {
          "output_type": "display_data",
          "data": {
            "image/png": "[encoded data removed]",
            "text/plain": [
              "<Figure size 1080x360 with 1 Axes>"
            ]
          },
          "metadata": {
            "tags": [],
            "needs_background": "light"
          }
        }
      ]
    },
    {
      "cell_type": "code",
      "metadata": {
        "colab_type": "code",
        "id": "4k5IsuIBvorN",
        "colab": {
          "base_uri": "https://localhost:8080/",
          "height": 357
        },
        "outputId": "fe10b9e0-6059-49e5-fdc7-692b32d26bc4"
      },
      "source": [
        "sns.barplot(x='airline_sentiment', y='airline_sentiment_confidence' , data=df) #Exploring the distribution of airline sentiment confidence by sentiment"
      ],
      "execution_count": 55,
      "outputs": [
        {
          "output_type": "execute_result",
          "data": {
            "text/plain": [
              "<matplotlib.axes._subplots.AxesSubplot at 0x7fb5355ea240>"
            ]
          },
          "metadata": {
            "tags": []
          },
          "execution_count": 55
        },
        {
          "output_type": "display_data",
          "data": {
            "image/png": "[encoded data removed]",
            "text/plain": [
              "<Figure size 1080x360 with 1 Axes>"
            ]
          },
          "metadata": {
            "tags": [],
            "needs_background": "light"
          }
        }
      ]
    },
    {
      "cell_type": "code",
      "metadata": {
        "colab_type": "code",
        "id": "8qo-CFyKvuBO",
        "colab": {
          "base_uri": "https://localhost:8080/",
          "height": 357
        },
        "outputId": "e8e4436b-0372-4404-e377-7115d9920412"
      },
      "source": [
        "#Exploring the distribution of confidence for negative sentiments, Negative sentiments form the largest samples size\n",
        "x = df[\"negativereason_confidence\"].fillna(-1)\n",
        "\n",
        "figsize=(15, 5)\n",
        "\n",
        "ticksize = 10\n",
        "titlesize = ticksize + 8\n",
        "labelsize = ticksize + 5\n",
        "\n",
        "params = {'figure.figsize' : figsize,\n",
        "          'axes.labelsize' : labelsize,\n",
        "          'axes.titlesize' : titlesize,\n",
        "          'xtick.labelsize': ticksize,\n",
        "          'ytick.labelsize': ticksize}\n",
        "\n",
        "plt.rcParams.update(params)\n",
        "sns.distplot(x)\n",
        "plt.plot()"
      ],
      "execution_count": 56,
      "outputs": [
        {
          "output_type": "execute_result",
          "data": {
            "text/plain": [
              "[]"
            ]
          },
          "metadata": {
            "tags": []
          },
          "execution_count": 56
        },
        {
          "output_type": "display_data",
          "data": {
            "image/png": "[encoded data removed]",
            "text/plain": [
              "<Figure size 1080x360 with 1 Axes>"
            ]
          },
          "metadata": {
            "tags": [],
            "needs_background": "light"
          }
        }
      ]
    },
    {
      "cell_type": "markdown",
      "metadata": {
        "id": "gwWeGD8Bf87C",
        "colab_type": "text"
      },
      "source": [
        "### Conclusion from the basic data visualisation\n",
        "\n",
        "The dataset is fairly unbalanced as is typically the case with review data which tends to be more negative as there is a higher inclination to leave a review if the quality of a product or service is unsatisfactory.\n",
        "\n",
        "To deal with this I will consider the proportion of imbalance in the dataset and decide on benchmarks to assess the ability of the model to deal with imbalance accordingly. \n",
        "\n",
        "## Preprocessing the dataset\n",
        "For pre-processing the text column of the dataset I have used this repository from Dimitrios Effrosynidis which specializes in preprocessing data for twitter sentiment analysis. The repository is available at https://github.com/Deffro/text-preprocessing-techniques\n",
        "\n",
        "The I have avoided steps like lemmatization, stopwords removal, stemming and removing mentions since I feel like they take away valuable information, particularly when we're using a recurrent neural network which can infer information about the state from the data otherwise removed.\n",
        "\n",
        "### References:\n",
        "https://github.com/Deffro/text-preprocessing-techniques <br>\n",
        "https://course.fast.ai/videos/?lesson=12<br>\n",
        "https://forums.fast.ai/t/class-imbalance-in-a-multi-label-scenario-ulmfit/50883/6"
      ]
    },
    {
      "cell_type": "code",
      "metadata": {
        "colab_type": "code",
        "id": "tzxrL5K55B3N",
        "colab": {}
      },
      "source": [
        "def removeUnicode(text):\n",
        "    \"\"\" Removes unicode strings like \"\\u002c\" and \"x96\" \"\"\"\n",
        "    text = re.sub(r'(\\\\u[0-9A-Fa-f]+)',r'', text)       \n",
        "    text = re.sub(r'[^\\x00-\\x7f]',r'',text)\n",
        "    return text\n",
        "\n",
        "def replaceURL(text):\n",
        "    \"\"\" Replaces url address with \"url\" \"\"\"\n",
        "    text = re.sub('((www\\.[^\\s]+)|(https?://[^\\s]+))','',text)\n",
        "    text = re.sub(r'#([^\\s]+)', r'\\1', text)\n",
        "    return text\n",
        "\n",
        "def replaceAtUser(text):\n",
        "    \"\"\" Replaces \"@user\" with \"atUser\" \"\"\"\n",
        "    text = re.sub('@[^\\s]+','',text)\n",
        "    return text\n",
        "\n",
        "def removeHashtagInFrontOfWord(text):\n",
        "    \"\"\" Removes hastag in front of a word \"\"\"\n",
        "    text = re.sub(r'#([^\\s]+)', r'\\1', text)\n",
        "    return text\n",
        "\n",
        "def removeNumbers(text):\n",
        "    \"\"\" Removes integers \"\"\"\n",
        "    text = ''.join([i for i in text if not i.isdigit()])         \n",
        "    return text\n",
        "\n",
        "def removeEmoticons(text):\n",
        "    \"\"\" Removes emoticons from text \"\"\"\n",
        "    text = re.sub(':\\)|;\\)|:-\\)|\\(-:|:-D|=D|:P|xD|X-p|\\^\\^|:-*|\\^\\.\\^|\\^\\-\\^|\\^\\_\\^|\\,-\\)|\\)-:|:\\'\\(|:\\(|:-\\(|:\\S|T\\.T|\\.\\_\\.|:<|:-\\S|:-<|\\*\\-\\*|:O|=O|=\\-O|O\\.o|XO|O\\_O|:-\\@|=/|:/|X\\-\\(|>\\.<|>=\\(|D:', '', text)\n",
        "    return text\n",
        "\n",
        "def replaceElongated(word):\n",
        "    \"\"\" Replaces an elongated word with its basic form, unless the word exists in the lexicon \"\"\"\n",
        "\n",
        "    repeat_regexp = re.compile(r'(\\w*)(\\w)\\2(\\w*)')\n",
        "    repl = r'\\1\\2\\3'\n",
        "    if wordnet.synsets(word):\n",
        "        return word\n",
        "    repl_word = repeat_regexp.sub(repl, word)\n",
        "    if repl_word != word:      \n",
        "        return replaceElongated(repl_word)\n",
        "    else:       \n",
        "        return repl_word\n",
        "\n",
        "def removeSpecialCharacters(text):\n",
        "    \"\"\" Removes puncatuations from text \"\"\"\n",
        "    return re.sub(r'[^\\w\\s]',' ',text)        \n",
        "\n",
        "\"\"\" Replaces contractions from a string to their equivalents \"\"\"\n",
        "contraction_patterns = [ (r'won\\'t', 'will not'), (r'can\\'t', 'cannot'), (r'i\\'m', 'i am'), (r'ain\\'t', 'is not'), (r'(\\w+)\\'ll', '\\g<1> will'), (r'(\\w+)n\\'t', '\\g<1> not'),\n",
        "                         (r'(\\w+)\\'ve', '\\g<1> have'), (r'(\\w+)\\'s', '\\g<1> is'), (r'(\\w+)\\'re', '\\g<1> are'), (r'(\\w+)\\'d', '\\g<1> would'), (r'&', 'and'), (r'dammit', 'damn it'), (r'dont', 'do not'), (r'wont', 'will not') ]\n",
        "\n",
        "## Replace Negations Begin ###\n",
        "\n",
        "def replace(word, pos=None):\n",
        "    \"\"\" Creates a set of all antonyms for the word and if there is only one antonym, it returns it \"\"\"\n",
        "    antonyms = set()\n",
        "    for syn in wordnet.synsets(word, pos=pos):\n",
        "      for lemma in syn.lemmas():\n",
        "        for antonym in lemma.antonyms():\n",
        "          antonyms.add(antonym.name())\n",
        "    if len(antonyms) == 1:\n",
        "      return antonyms.pop()\n",
        "    else:\n",
        "      return None\n",
        "\n",
        "def replaceNegations(text):\n",
        "    \"\"\" Finds \"not\" and antonym for the next word and if found, replaces not and the next word with the antonym \"\"\"\n",
        "    i, l = 0, len(text)\n",
        "    words = []\n",
        "    while i < l:\n",
        "      word = text[i]\n",
        "      if word == 'not' and i+1 < l:\n",
        "        ant = replace(text[i+1])\n",
        "        if ant:\n",
        "          words.append(ant)\n",
        "          i += 2\n",
        "          continue\n",
        "      words.append(word)\n",
        "      i += 1\n",
        "    return words\n",
        "\n",
        "def replaceNegationsText(text):\n",
        "    \"\"\" Replace negations from the entire text string (not a single token) \"\"\"\n",
        "    tokens = word_tokenize(text)\n",
        "    tokens = replaceNegations(tokens) # Technique 6: finds \"not\" and antonym \n",
        "                                      # for the next word and if found, replaces not \n",
        "                                      # and the next word with the antonym\n",
        "    onlyOneSentence = \" \".join(tokens) # form again the sentence from the list of tokens\n",
        "    return onlyOneSentence\n",
        "\n",
        "def replaceContraction(text):\n",
        "    patterns = [(re.compile(regex), repl) for (regex, repl) in contraction_patterns]\n",
        "    for (pattern, repl) in patterns:\n",
        "        (text, count) = re.subn(pattern, repl, text)\n",
        "    return text\n",
        "\n",
        "\n",
        "def lowercase(text):\n",
        "    \"\"\" Make all characters lowercase \"\"\"\n",
        "    return text.lower()"
      ],
      "execution_count": 57,
      "outputs": []
    },
    {
      "cell_type": "code",
      "metadata": {
        "colab_type": "code",
        "id": "uh3ALTRn8A8S",
        "colab": {}
      },
      "source": [
        "# Applying the preprocessing techniques\n",
        "df.text = df.text.apply(removeUnicode).apply(lowercase).apply(replaceURL).apply(removeHashtagInFrontOfWord).apply(replaceContraction).apply(removeNumbers).apply(removeEmoticons).apply(removeSpecialCharacters).apply(replaceNegationsText)"
      ],
      "execution_count": 58,
      "outputs": []
    },
    {
      "cell_type": "markdown",
      "metadata": {
        "id": "Iz8fXrQ7f87Q",
        "colab_type": "text"
      },
      "source": [
        "## Building and fine-tuning the model\n",
        "To build and fine-tune the model I have used several references which are mentioned below but the key references include the original ULMFiT paper at https://arxiv.org/abs/1801.06146 and the github example for ULMFiT given at https://github.com/fastai/fastai/blob/master/examples/ULMFit.ipynb\n",
        "\n",
        "### References:\n",
        "https://humboldt-wi.github.io/blog/research/information_systems_1819/group4_ulmfit/#extresults <br>\n",
        "https://course.fast.ai/videos/?lesson=12<br>\n",
        "https://docs.fast.ai/text.html <br>\n",
        "https://docs.fast.ai/text.learner.html#text_classifier_learner <br>\n",
        "https://docs.fast.ai/text.data.html#TextLMDataBunch <br>\n",
        "https://forums.fast.ai/t/class-imbalance-in-a-multi-label-scenario-ulmfit/50883/6 <br>\n",
        "https://towardsdatascience.com/transfer-learning-in-nlp-for-tweet-stance-classification-8ab014da8dde <br>\n",
        "https://www.kaggle.com/crowdflower/twitter-airline-sentiment/data# <br>\n",
        "https://gist.github.com/manojps/ffd382ee97d173f14f9ac5075fe1d1af <br>\n",
        "\n",
        "The first step is to load the pre-trained models.  I download the ULMFiT pretrained models weights on WikiText-103 dataset and \n",
        "also use the LSTM model weights pre-trained on the same dataset using the following commands."
      ]
    },
    {
      "cell_type": "code",
      "metadata": {
        "colab_type": "code",
        "id": "l5rrSj8Av1AY",
        "colab": {}
      },
      "source": [
        "#!wget http://files.fast.ai/models/wt103/\n",
        "#!wget http://files.fast.ai/models/wt103_v1/lstm_wt103.pth\n",
        "#!wget http://files.fast.ai/models/wt103_v1/itos_wt103.pkl"
      ],
      "execution_count": 59,
      "outputs": []
    },
    {
      "cell_type": "markdown",
      "metadata": {
        "id": "-7fH4-hDf87Y",
        "colab_type": "text"
      },
      "source": [
        "Then I seperate the text and sentiment columns from the original dataframe since these are the most useful for the model."
      ]
    },
    {
      "cell_type": "code",
      "metadata": {
        "colab_type": "code",
        "id": "gsKT5afWM1-V",
        "colab": {}
      },
      "source": [
        "df = df[['airline_sentiment', 'text']]\n",
        "df = df.rename(columns={'airline_sentiment':'labels'})"
      ],
      "execution_count": 60,
      "outputs": []
    },
    {
      "cell_type": "markdown",
      "metadata": {
        "id": "HDBOq5QHf87b",
        "colab_type": "text"
      },
      "source": [
        "Then I create the training and testing datasets using a standard 80:20 split and I have also found the percentage of negative samples in each dataset which will be the benchmarks for checking if the model is able to cope with imbalance. \n",
        "\n",
        "I have also used the TextLMDataBunch and TextClasDataBunch classes to create data bunches of the language model and classifier respectively."
      ]
    },
    {
      "cell_type": "code",
      "metadata": {
        "colab_type": "code",
        "id": "JEnQI-C9wM1S",
        "colab": {
          "base_uri": "https://localhost:8080/",
          "height": 50
        },
        "outputId": "9966dc18-c3c7-47d3-eb22-21f74c457f3e"
      },
      "source": [
        "# Dividing the dataset into training and test sets\n",
        "\n",
        "test_df = df.sample(frac=0.2) # setting the 80:20 split\n",
        "print(\"Percentage of negative samples: \", (100*len(test_df[test_df.labels=='negative'])/len(test_df.labels)))\n",
        "\n",
        "train_df = df.drop(test_df.index) # setting the rest as training set\n",
        "print(\"Percentage of negative samples: \", (100*len(train_df[train_df.labels=='negative'])/len(train_df.labels)))\n",
        "\n",
        "# Prepare data for language model\n",
        "data_lm = TextLMDataBunch.from_df(train_df = train_df, valid_df = test_df, path = \"\")\n",
        "\n",
        "# Prepare data for classifier model\n",
        "data_clas = TextClasDataBunch.from_df(path = \"\", train_df = train_df, valid_df = test_df,vocab=data_lm.train_ds.vocab, bs=16)"
      ],
      "execution_count": 61,
      "outputs": [
        {
          "output_type": "stream",
          "text": [
            "Percentage of negative samples:  64.51502732240438\n",
            "Percentage of negative samples:  62.235314207650276\n"
          ],
          "name": "stdout"
        },
        {
          "output_type": "display_data",
          "data": {
            "text/html": [
              ""
            ],
            "text/plain": [
              "<IPython.core.display.HTML object>"
            ]
          },
          "metadata": {
            "tags": []
          }
        },
        {
          "output_type": "display_data",
          "data": {
            "text/html": [
              ""
            ],
            "text/plain": [
              "<IPython.core.display.HTML object>"
            ]
          },
          "metadata": {
            "tags": []
          }
        },
        {
          "output_type": "display_data",
          "data": {
            "text/html": [
              ""
            ],
            "text/plain": [
              "<IPython.core.display.HTML object>"
            ]
          },
          "metadata": {
            "tags": []
          }
        },
        {
          "output_type": "display_data",
          "data": {
            "text/html": [
              ""
            ],
            "text/plain": [
              "<IPython.core.display.HTML object>"
            ]
          },
          "metadata": {
            "tags": []
          }
        }
      ]
    },
    {
      "cell_type": "markdown",
      "metadata": {
        "id": "5pvJy4MRf87i",
        "colab_type": "text"
      },
      "source": [
        "60% the dataset is negative, this would result in an accuracy of 60% if we just randomly drew labels for each tweet, every third tweet would be guessed right on average. Hence we can use this as a benchmark for the performance of our model and it's ability to deal with imbalance.\n",
        "\n",
        "### References:\n",
        "https://humboldt-wi.github.io/blog/research/information_systems_1819/group4_ulmfit/#overviewulmfit\n",
        "\n",
        "## Language model learner\n",
        "\n",
        "Since I cannot directly train a bidirectional RNN for language modeling, I follow fastai's idea to ensemble a forward and backward model. fastai also provides a pretrained forward and backawrd model which can fine-tune the pretrained backward model as well.\n",
        "\n",
        "I first re-train and fine-tune the forward language model using the AWD_LSTM model since it automatically uses pretrained weights.Ialso use Mixed Precision Training to train part of the model in FP16 precision, and also speeds up training by a factor 2 to 3 on modern GPUs."
      ]
    },
    {
      "cell_type": "code",
      "metadata": {
        "colab_type": "code",
        "id": "1dhzwWEowyw5",
        "colab": {}
      },
      "source": [
        "learn = language_model_learner(data=data_lm, arch=AWD_LSTM,drop_mult=0.5)\n",
        "learn = learn.to_fp16(clip=0.1)"
      ],
      "execution_count": 62,
      "outputs": []
    },
    {
      "cell_type": "markdown",
      "metadata": {
        "id": "uwuAG33uf87p",
        "colab_type": "text"
      },
      "source": [
        "I also try to estimate the best learning rate for the model using the in built lr_find function and settle on a learning rate of 2e-2.\n",
        "\n",
        "I've also used the fit_one_cycle which uses the 1cycle policy which is described by Leslie Smith which works better than the regular fit() function.\n",
        "\n",
        "### References:\n",
        "https://arxiv.org/abs/1803.09820 <br>\n",
        "https://sgugger.github.io/the-1cycle-policy.html"
      ]
    },
    {
      "cell_type": "code",
      "metadata": {
        "colab_type": "code",
        "id": "Qatskb-2Z9_q",
        "colab": {
          "base_uri": "https://localhost:8080/",
          "height": 494
        },
        "outputId": "9364cc0e-63d7-4f9a-9cd4-bb0e68a95761"
      },
      "source": [
        "learn.lr_find(start_lr=1e-1, end_lr=1e0)\n",
        "learn.recorder.plot()"
      ],
      "execution_count": 63,
      "outputs": [
        {
          "output_type": "display_data",
          "data": {
            "text/html": [
              "\n",
              "    <div>\n",
              "        <style>\n",
              "            /* Turns off some styling */\n",
              "            progress {\n",
              "                /* gets rid of default border in Firefox and Opera. */\n",
              "                border: none;\n",
              "                /* Needs to be in here for Safari polyfill so background images work as expected. */\n",
              "                background-size: auto;\n",
              "            }\n",
              "            .progress-bar-interrupted, .progress-bar-interrupted::-webkit-progress-bar {\n",
              "                background: #F44336;\n",
              "            }\n",
              "        </style>\n",
              "      <progress value='2' class='' max='3' style='width:300px; height:20px; vertical-align: middle;'></progress>\n",
              "      66.67% [2/3 00:48<00:24]\n",
              "    </div>\n",
              "    \n",
              "<table border=\"1\" class=\"dataframe\">\n",
              "  <thead>\n",
              "    <tr style=\"text-align: left;\">\n",
              "      <th>epoch</th>\n",
              "      <th>train_loss</th>\n",
              "      <th>valid_loss</th>\n",
              "      <th>accuracy</th>\n",
              "      <th>time</th>\n",
              "    </tr>\n",
              "  </thead>\n",
              "  <tbody>\n",
              "    <tr>\n",
              "      <td>0</td>\n",
              "      <td>5.969394</td>\n",
              "      <td>#na#</td>\n",
              "      <td>00:24</td>\n",
              "    </tr>\n",
              "    <tr>\n",
              "      <td>1</td>\n",
              "      <td>6.651020</td>\n",
              "      <td>#na#</td>\n",
              "      <td>00:24</td>\n",
              "    </tr>\n",
              "  </tbody>\n",
              "</table><p>\n",
              "\n",
              "    <div>\n",
              "        <style>\n",
              "            /* Turns off some styling */\n",
              "            progress {\n",
              "                /* gets rid of default border in Firefox and Opera. */\n",
              "                border: none;\n",
              "                /* Needs to be in here for Safari polyfill so background images work as expected. */\n",
              "                background-size: auto;\n",
              "            }\n",
              "            .progress-bar-interrupted, .progress-bar-interrupted::-webkit-progress-bar {\n",
              "                background: #F44336;\n",
              "            }\n",
              "        </style>\n",
              "      <progress value='1' class='' max='49' style='width:300px; height:20px; vertical-align: middle;'></progress>\n",
              "      2.04% [1/49 00:00<00:23 6.7006]\n",
              "    </div>\n",
              "    "
            ],
            "text/plain": [
              "<IPython.core.display.HTML object>"
            ]
          },
          "metadata": {
            "tags": []
          }
        },
        {
          "output_type": "stream",
          "text": [
            "LR Finder is complete, type {learner_name}.recorder.plot() to see the graph.\n"
          ],
          "name": "stdout"
        },
        {
          "output_type": "display_data",
          "data": {
            "image/png": "[encoded data removed]",
            "text/plain": [
              "<Figure size 1080x360 with 1 Axes>"
            ]
          },
          "metadata": {
            "tags": [],
            "needs_background": "light"
          }
        }
      ]
    },
    {
      "cell_type": "code",
      "metadata": {
        "colab_type": "code",
        "id": "SoW6OTu3w5n3",
        "colab": {
          "base_uri": "https://localhost:8080/",
          "height": 77
        },
        "outputId": "33860ddf-af65-4396-d5d4-b8d3993e4bd1"
      },
      "source": [
        "learn.fit_one_cycle(1, 2e-2, moms=(0.8,0.7), wd=0.1)"
      ],
      "execution_count": 64,
      "outputs": [
        {
          "output_type": "display_data",
          "data": {
            "text/html": [
              "<table border=\"1\" class=\"dataframe\">\n",
              "  <thead>\n",
              "    <tr style=\"text-align: left;\">\n",
              "      <th>epoch</th>\n",
              "      <th>train_loss</th>\n",
              "      <th>valid_loss</th>\n",
              "      <th>accuracy</th>\n",
              "      <th>time</th>\n",
              "    </tr>\n",
              "  </thead>\n",
              "  <tbody>\n",
              "    <tr>\n",
              "      <td>0</td>\n",
              "      <td>5.193617</td>\n",
              "      <td>4.533323</td>\n",
              "      <td>0.200206</td>\n",
              "      <td>00:26</td>\n",
              "    </tr>\n",
              "  </tbody>\n",
              "</table>"
            ],
            "text/plain": [
              "<IPython.core.display.HTML object>"
            ]
          },
          "metadata": {
            "tags": []
          }
        }
      ]
    },
    {
      "cell_type": "markdown",
      "metadata": {
        "id": "t2bbVe4Kf870",
        "colab_type": "text"
      },
      "source": [
        "Then we unfreeze the whole model and fine-tune it."
      ]
    },
    {
      "cell_type": "code",
      "metadata": {
        "colab_type": "code",
        "id": "dGdgbty8w9su",
        "colab": {
          "base_uri": "https://localhost:8080/",
          "height": 343
        },
        "outputId": "1a85a273-5e37-4c20-9a13-13ee69bc36be"
      },
      "source": [
        "learn.unfreeze()\n",
        "learn.fit_one_cycle(10, 2e-3, moms=(0.8,0.7), wd=0.1)"
      ],
      "execution_count": 65,
      "outputs": [
        {
          "output_type": "display_data",
          "data": {
            "text/html": [
              "<table border=\"1\" class=\"dataframe\">\n",
              "  <thead>\n",
              "    <tr style=\"text-align: left;\">\n",
              "      <th>epoch</th>\n",
              "      <th>train_loss</th>\n",
              "      <th>valid_loss</th>\n",
              "      <th>accuracy</th>\n",
              "      <th>time</th>\n",
              "    </tr>\n",
              "  </thead>\n",
              "  <tbody>\n",
              "    <tr>\n",
              "      <td>0</td>\n",
              "      <td>4.443352</td>\n",
              "      <td>4.397458</td>\n",
              "      <td>0.215522</td>\n",
              "      <td>00:33</td>\n",
              "    </tr>\n",
              "    <tr>\n",
              "      <td>1</td>\n",
              "      <td>4.325727</td>\n",
              "      <td>4.309970</td>\n",
              "      <td>0.226528</td>\n",
              "      <td>00:33</td>\n",
              "    </tr>\n",
              "    <tr>\n",
              "      <td>2</td>\n",
              "      <td>4.164944</td>\n",
              "      <td>4.252805</td>\n",
              "      <td>0.231902</td>\n",
              "      <td>00:33</td>\n",
              "    </tr>\n",
              "    <tr>\n",
              "      <td>3</td>\n",
              "      <td>3.938776</td>\n",
              "      <td>4.260830</td>\n",
              "      <td>0.232744</td>\n",
              "      <td>00:33</td>\n",
              "    </tr>\n",
              "    <tr>\n",
              "      <td>4</td>\n",
              "      <td>3.614516</td>\n",
              "      <td>4.318959</td>\n",
              "      <td>0.233053</td>\n",
              "      <td>00:33</td>\n",
              "    </tr>\n",
              "    <tr>\n",
              "      <td>5</td>\n",
              "      <td>3.263615</td>\n",
              "      <td>4.392015</td>\n",
              "      <td>0.231267</td>\n",
              "      <td>00:33</td>\n",
              "    </tr>\n",
              "    <tr>\n",
              "      <td>6</td>\n",
              "      <td>2.933276</td>\n",
              "      <td>4.480918</td>\n",
              "      <td>0.229447</td>\n",
              "      <td>00:33</td>\n",
              "    </tr>\n",
              "    <tr>\n",
              "      <td>7</td>\n",
              "      <td>2.646387</td>\n",
              "      <td>4.569599</td>\n",
              "      <td>0.227833</td>\n",
              "      <td>00:33</td>\n",
              "    </tr>\n",
              "    <tr>\n",
              "      <td>8</td>\n",
              "      <td>2.448662</td>\n",
              "      <td>4.621784</td>\n",
              "      <td>0.227249</td>\n",
              "      <td>00:33</td>\n",
              "    </tr>\n",
              "    <tr>\n",
              "      <td>9</td>\n",
              "      <td>2.323755</td>\n",
              "      <td>4.643163</td>\n",
              "      <td>0.226065</td>\n",
              "      <td>00:33</td>\n",
              "    </tr>\n",
              "  </tbody>\n",
              "</table>"
            ],
            "text/plain": [
              "<IPython.core.display.HTML object>"
            ]
          },
          "metadata": {
            "tags": []
          }
        }
      ]
    },
    {
      "cell_type": "code",
      "metadata": {
        "colab_type": "code",
        "id": "pPLHJ45rxDiE",
        "colab": {}
      },
      "source": [
        "learn.save_encoder('fwd_enc')"
      ],
      "execution_count": 66,
      "outputs": []
    },
    {
      "cell_type": "markdown",
      "metadata": {
        "id": "iXSWeTDaf88H",
        "colab_type": "text"
      },
      "source": [
        "Similarly, I do the same for the Backward Language Model. Except I load the data for the backward model and pqss the flag backwards=True."
      ]
    },
    {
      "cell_type": "code",
      "metadata": {
        "colab_type": "code",
        "id": "6mgfcKyZsTRB",
        "colab": {}
      },
      "source": [
        "bs, bptt = 16, 80 #bs is Batch Size and bptt is Backpropogation through time\n",
        "data_lm.save('data_lm.pkl')\n",
        "path = '/content/'\n",
        "data_bwd = load_data(path, 'data_lm.pkl', bs=bs, bptt=bptt, backwards=True)"
      ],
      "execution_count": 67,
      "outputs": []
    },
    {
      "cell_type": "code",
      "metadata": {
        "colab_type": "code",
        "id": "4SFk9rXKxJB5",
        "colab": {}
      },
      "source": [
        "learn = language_model_learner(data_bwd, AWD_LSTM)\n",
        "learn = learn.to_fp16(clip=0.1)"
      ],
      "execution_count": 68,
      "outputs": []
    },
    {
      "cell_type": "code",
      "metadata": {
        "colab_type": "code",
        "id": "pvJAEZdefyzH",
        "colab": {
          "base_uri": "https://localhost:8080/",
          "height": 432
        },
        "outputId": "43437ce8-5f7e-40f5-e58b-3705238f7139"
      },
      "source": [
        "learn.lr_find(start_lr=1e-4, end_lr=1e2)\n",
        "learn.recorder.plot()"
      ],
      "execution_count": 69,
      "outputs": [
        {
          "output_type": "display_data",
          "data": {
            "text/html": [
              "\n",
              "    <div>\n",
              "        <style>\n",
              "            /* Turns off some styling */\n",
              "            progress {\n",
              "                /* gets rid of default border in Firefox and Opera. */\n",
              "                border: none;\n",
              "                /* Needs to be in here for Safari polyfill so background images work as expected. */\n",
              "                background-size: auto;\n",
              "            }\n",
              "            .progress-bar-interrupted, .progress-bar-interrupted::-webkit-progress-bar {\n",
              "                background: #F44336;\n",
              "            }\n",
              "        </style>\n",
              "      <progress value='0' class='' max='1' style='width:300px; height:20px; vertical-align: middle;'></progress>\n",
              "      0.00% [0/1 00:00<00:00]\n",
              "    </div>\n",
              "    \n",
              "<table border=\"1\" class=\"dataframe\">\n",
              "  <thead>\n",
              "    <tr style=\"text-align: left;\">\n",
              "      <th>epoch</th>\n",
              "      <th>train_loss</th>\n",
              "      <th>valid_loss</th>\n",
              "      <th>accuracy</th>\n",
              "      <th>time</th>\n",
              "    </tr>\n",
              "  </thead>\n",
              "  <tbody>\n",
              "  </tbody>\n",
              "</table><p>\n",
              "\n",
              "    <div>\n",
              "        <style>\n",
              "            /* Turns off some styling */\n",
              "            progress {\n",
              "                /* gets rid of default border in Firefox and Opera. */\n",
              "                border: none;\n",
              "                /* Needs to be in here for Safari polyfill so background images work as expected. */\n",
              "                background-size: auto;\n",
              "            }\n",
              "            .progress-bar-interrupted, .progress-bar-interrupted::-webkit-progress-bar {\n",
              "                background: #F44336;\n",
              "            }\n",
              "        </style>\n",
              "      <progress value='89' class='' max='170' style='width:300px; height:20px; vertical-align: middle;'></progress>\n",
              "      52.35% [89/170 00:20<00:18 24.9759]\n",
              "    </div>\n",
              "    "
            ],
            "text/plain": [
              "<IPython.core.display.HTML object>"
            ]
          },
          "metadata": {
            "tags": []
          }
        },
        {
          "output_type": "stream",
          "text": [
            "LR Finder is complete, type {learner_name}.recorder.plot() to see the graph.\n"
          ],
          "name": "stdout"
        },
        {
          "output_type": "display_data",
          "data": {
            "image/png": "[encoded data removed]",
            "text/plain": [
              "<Figure size 1080x360 with 1 Axes>"
            ]
          },
          "metadata": {
            "tags": [],
            "needs_background": "light"
          }
        }
      ]
    },
    {
      "cell_type": "code",
      "metadata": {
        "colab_type": "code",
        "id": "obn1eu2Kx5VB",
        "colab": {
          "base_uri": "https://localhost:8080/",
          "height": 77
        },
        "outputId": "673ba33b-3763-49ee-9c03-68cbeb0ca351"
      },
      "source": [
        "learn.fit_one_cycle(1, 2e-2, moms=(0.8,0.7), wd=0.1)"
      ],
      "execution_count": 70,
      "outputs": [
        {
          "output_type": "display_data",
          "data": {
            "text/html": [
              "<table border=\"1\" class=\"dataframe\">\n",
              "  <thead>\n",
              "    <tr style=\"text-align: left;\">\n",
              "      <th>epoch</th>\n",
              "      <th>train_loss</th>\n",
              "      <th>valid_loss</th>\n",
              "      <th>accuracy</th>\n",
              "      <th>time</th>\n",
              "    </tr>\n",
              "  </thead>\n",
              "  <tbody>\n",
              "    <tr>\n",
              "      <td>0</td>\n",
              "      <td>5.038976</td>\n",
              "      <td>4.552269</td>\n",
              "      <td>0.243169</td>\n",
              "      <td>00:44</td>\n",
              "    </tr>\n",
              "  </tbody>\n",
              "</table>"
            ],
            "text/plain": [
              "<IPython.core.display.HTML object>"
            ]
          },
          "metadata": {
            "tags": []
          }
        }
      ]
    },
    {
      "cell_type": "code",
      "metadata": {
        "colab_type": "code",
        "id": "_Nbq74yXtM9Q",
        "colab": {}
      },
      "source": [
        "learn.unfreeze()"
      ],
      "execution_count": 71,
      "outputs": []
    },
    {
      "cell_type": "code",
      "metadata": {
        "colab_type": "code",
        "id": "nKiKj9NptUn5",
        "colab": {
          "base_uri": "https://localhost:8080/",
          "height": 343
        },
        "outputId": "03df24af-5ecb-4521-c748-b37745d4328c"
      },
      "source": [
        "learn.fit_one_cycle(10, 2e-3, moms=(0.8,0.7), wd=0.1)"
      ],
      "execution_count": 72,
      "outputs": [
        {
          "output_type": "display_data",
          "data": {
            "text/html": [
              "<table border=\"1\" class=\"dataframe\">\n",
              "  <thead>\n",
              "    <tr style=\"text-align: left;\">\n",
              "      <th>epoch</th>\n",
              "      <th>train_loss</th>\n",
              "      <th>valid_loss</th>\n",
              "      <th>accuracy</th>\n",
              "      <th>time</th>\n",
              "    </tr>\n",
              "  </thead>\n",
              "  <tbody>\n",
              "    <tr>\n",
              "      <td>0</td>\n",
              "      <td>4.559860</td>\n",
              "      <td>4.421642</td>\n",
              "      <td>0.255705</td>\n",
              "      <td>00:54</td>\n",
              "    </tr>\n",
              "    <tr>\n",
              "      <td>1</td>\n",
              "      <td>4.424045</td>\n",
              "      <td>4.335519</td>\n",
              "      <td>0.264299</td>\n",
              "      <td>00:54</td>\n",
              "    </tr>\n",
              "    <tr>\n",
              "      <td>2</td>\n",
              "      <td>4.258010</td>\n",
              "      <td>4.270721</td>\n",
              "      <td>0.270676</td>\n",
              "      <td>00:54</td>\n",
              "    </tr>\n",
              "    <tr>\n",
              "      <td>3</td>\n",
              "      <td>4.037042</td>\n",
              "      <td>4.230490</td>\n",
              "      <td>0.277671</td>\n",
              "      <td>00:54</td>\n",
              "    </tr>\n",
              "    <tr>\n",
              "      <td>4</td>\n",
              "      <td>3.786639</td>\n",
              "      <td>4.218230</td>\n",
              "      <td>0.279415</td>\n",
              "      <td>00:54</td>\n",
              "    </tr>\n",
              "    <tr>\n",
              "      <td>5</td>\n",
              "      <td>3.513853</td>\n",
              "      <td>4.250352</td>\n",
              "      <td>0.282304</td>\n",
              "      <td>00:54</td>\n",
              "    </tr>\n",
              "    <tr>\n",
              "      <td>6</td>\n",
              "      <td>3.256004</td>\n",
              "      <td>4.289307</td>\n",
              "      <td>0.281868</td>\n",
              "      <td>00:54</td>\n",
              "    </tr>\n",
              "    <tr>\n",
              "      <td>7</td>\n",
              "      <td>3.006730</td>\n",
              "      <td>4.347852</td>\n",
              "      <td>0.282068</td>\n",
              "      <td>00:54</td>\n",
              "    </tr>\n",
              "    <tr>\n",
              "      <td>8</td>\n",
              "      <td>2.835565</td>\n",
              "      <td>4.384316</td>\n",
              "      <td>0.281777</td>\n",
              "      <td>00:54</td>\n",
              "    </tr>\n",
              "    <tr>\n",
              "      <td>9</td>\n",
              "      <td>2.753861</td>\n",
              "      <td>4.401526</td>\n",
              "      <td>0.281195</td>\n",
              "      <td>00:54</td>\n",
              "    </tr>\n",
              "  </tbody>\n",
              "</table>"
            ],
            "text/plain": [
              "<IPython.core.display.HTML object>"
            ]
          },
          "metadata": {
            "tags": []
          }
        }
      ]
    },
    {
      "cell_type": "code",
      "metadata": {
        "colab_type": "code",
        "id": "6UVBDUkgtWpq",
        "colab": {}
      },
      "source": [
        "learn.save_encoder('bwd_enc')"
      ],
      "execution_count": 73,
      "outputs": []
    },
    {
      "cell_type": "markdown",
      "metadata": {
        "id": "8rt5esByf89A",
        "colab_type": "text"
      },
      "source": [
        "## Building the Classifier\n",
        "\n",
        "Now that the Language models are ready, I build the classifier using an LSTM. I also use the novel discriminitive fine-tuning technique described in the original ULMFiT paper.\n",
        "\n",
        "First I load the data, I loaded data for both the forward and backward ensemble."
      ]
    },
    {
      "cell_type": "code",
      "metadata": {
        "colab_type": "code",
        "id": "Wgr4ipp3Gsyu",
        "colab": {}
      },
      "source": [
        "data_clas.save('data_clas.pkl')\n",
        "data_clas_bwd = load_data(path, 'data_clas.pkl', bs=bs, backwards=True)"
      ],
      "execution_count": 74,
      "outputs": []
    },
    {
      "cell_type": "markdown",
      "metadata": {
        "id": "_RTsiu6Wf89H",
        "colab_type": "text"
      },
      "source": [
        "Then I load the classifier, since there is an imbalance in the dataset I've also set the precision and recall metrics to get a sense of the ability of the model. I have also settled on a learning rate 1e-1."
      ]
    },
    {
      "cell_type": "code",
      "metadata": {
        "colab_type": "code",
        "id": "n5Q7AaMeHA1i",
        "colab": {}
      },
      "source": [
        "learn = text_classifier_learner(data_clas, AWD_LSTM, drop_mult=0.5, pretrained=False)\n",
        "learn.load_encoder('fwd_enc')\n",
        "recall = Recall(average='macro')\n",
        "precision = Precision(average='macro')\n",
        "learn.metrics=[accuracy, recall, precision]"
      ],
      "execution_count": 75,
      "outputs": []
    },
    {
      "cell_type": "code",
      "metadata": {
        "colab_type": "code",
        "id": "bArJKVCGHKpi",
        "colab": {
          "base_uri": "https://localhost:8080/",
          "height": 77
        },
        "outputId": "fd7b0798-7115-438c-c382-a7e2f237d269"
      },
      "source": [
        "lr = 1e-1\n",
        "learn.fit_one_cycle(1, lr, moms=(0.8,0.7), wd=0.1)"
      ],
      "execution_count": 76,
      "outputs": [
        {
          "output_type": "display_data",
          "data": {
            "text/html": [
              "<table border=\"1\" class=\"dataframe\">\n",
              "  <thead>\n",
              "    <tr style=\"text-align: left;\">\n",
              "      <th>epoch</th>\n",
              "      <th>train_loss</th>\n",
              "      <th>valid_loss</th>\n",
              "      <th>accuracy</th>\n",
              "      <th>recall</th>\n",
              "      <th>precision</th>\n",
              "      <th>time</th>\n",
              "    </tr>\n",
              "  </thead>\n",
              "  <tbody>\n",
              "    <tr>\n",
              "      <td>0</td>\n",
              "      <td>0.742531</td>\n",
              "      <td>0.588768</td>\n",
              "      <td>0.780055</td>\n",
              "      <td>0.651859</td>\n",
              "      <td>0.725858</td>\n",
              "      <td>00:29</td>\n",
              "    </tr>\n",
              "  </tbody>\n",
              "</table>"
            ],
            "text/plain": [
              "<IPython.core.display.HTML object>"
            ]
          },
          "metadata": {
            "tags": []
          }
        }
      ]
    },
    {
      "cell_type": "code",
      "metadata": {
        "colab_type": "code",
        "id": "LoF-8QSKHfuX",
        "colab": {
          "base_uri": "https://localhost:8080/",
          "height": 77
        },
        "outputId": "9f92a043-1e11-4015-83e4-4b498ba469ce"
      },
      "source": [
        "learn.freeze_to(-2)\n",
        "lr /= 2\n",
        "learn.fit_one_cycle(1, slice(lr/(2.6**4),lr), moms=(0.8,0.7), wd=0.1)"
      ],
      "execution_count": 77,
      "outputs": [
        {
          "output_type": "display_data",
          "data": {
            "text/html": [
              "<table border=\"1\" class=\"dataframe\">\n",
              "  <thead>\n",
              "    <tr style=\"text-align: left;\">\n",
              "      <th>epoch</th>\n",
              "      <th>train_loss</th>\n",
              "      <th>valid_loss</th>\n",
              "      <th>accuracy</th>\n",
              "      <th>recall</th>\n",
              "      <th>precision</th>\n",
              "      <th>time</th>\n",
              "    </tr>\n",
              "  </thead>\n",
              "  <tbody>\n",
              "    <tr>\n",
              "      <td>0</td>\n",
              "      <td>0.680421</td>\n",
              "      <td>0.508553</td>\n",
              "      <td>0.802937</td>\n",
              "      <td>0.676184</td>\n",
              "      <td>0.793672</td>\n",
              "      <td>00:34</td>\n",
              "    </tr>\n",
              "  </tbody>\n",
              "</table>"
            ],
            "text/plain": [
              "<IPython.core.display.HTML object>"
            ]
          },
          "metadata": {
            "tags": []
          }
        }
      ]
    },
    {
      "cell_type": "code",
      "metadata": {
        "colab_type": "code",
        "id": "17wdKBgYHoW9",
        "colab": {
          "base_uri": "https://localhost:8080/",
          "height": 77
        },
        "outputId": "c30120b9-f06c-43e7-fab3-ef9594b8821d"
      },
      "source": [
        "learn.freeze_to(-3)\n",
        "lr /= 2\n",
        "learn.fit_one_cycle(1, slice(lr/(2.6**4),lr), moms=(0.8,0.7), wd=0.1)"
      ],
      "execution_count": 78,
      "outputs": [
        {
          "output_type": "display_data",
          "data": {
            "text/html": [
              "<table border=\"1\" class=\"dataframe\">\n",
              "  <thead>\n",
              "    <tr style=\"text-align: left;\">\n",
              "      <th>epoch</th>\n",
              "      <th>train_loss</th>\n",
              "      <th>valid_loss</th>\n",
              "      <th>accuracy</th>\n",
              "      <th>recall</th>\n",
              "      <th>precision</th>\n",
              "      <th>time</th>\n",
              "    </tr>\n",
              "  </thead>\n",
              "  <tbody>\n",
              "    <tr>\n",
              "      <td>0</td>\n",
              "      <td>0.658964</td>\n",
              "      <td>0.478405</td>\n",
              "      <td>0.815574</td>\n",
              "      <td>0.712174</td>\n",
              "      <td>0.786093</td>\n",
              "      <td>00:51</td>\n",
              "    </tr>\n",
              "  </tbody>\n",
              "</table>"
            ],
            "text/plain": [
              "<IPython.core.display.HTML object>"
            ]
          },
          "metadata": {
            "tags": []
          }
        }
      ]
    },
    {
      "cell_type": "markdown",
      "metadata": {
        "id": "E0Wv0rYsf89d",
        "colab_type": "text"
      },
      "source": [
        "Unfreeze all the layers and fine-tune the whole model."
      ]
    },
    {
      "cell_type": "code",
      "metadata": {
        "colab_type": "code",
        "id": "iRc2Gy4wHt3a",
        "colab": {
          "base_uri": "https://localhost:8080/",
          "height": 106
        },
        "outputId": "1a705e80-0c7a-45d9-aabe-bd28cbf361c4"
      },
      "source": [
        "learn.unfreeze()\n",
        "lr /= 5\n",
        "learn.fit_one_cycle(2, slice(lr/(2.6**4),lr), moms=(0.8,0.7), wd=0.1)"
      ],
      "execution_count": 79,
      "outputs": [
        {
          "output_type": "display_data",
          "data": {
            "text/html": [
              "<table border=\"1\" class=\"dataframe\">\n",
              "  <thead>\n",
              "    <tr style=\"text-align: left;\">\n",
              "      <th>epoch</th>\n",
              "      <th>train_loss</th>\n",
              "      <th>valid_loss</th>\n",
              "      <th>accuracy</th>\n",
              "      <th>recall</th>\n",
              "      <th>precision</th>\n",
              "      <th>time</th>\n",
              "    </tr>\n",
              "  </thead>\n",
              "  <tbody>\n",
              "    <tr>\n",
              "      <td>0</td>\n",
              "      <td>0.558163</td>\n",
              "      <td>0.462229</td>\n",
              "      <td>0.823087</td>\n",
              "      <td>0.751505</td>\n",
              "      <td>0.780006</td>\n",
              "      <td>01:06</td>\n",
              "    </tr>\n",
              "    <tr>\n",
              "      <td>1</td>\n",
              "      <td>0.428013</td>\n",
              "      <td>0.446684</td>\n",
              "      <td>0.831967</td>\n",
              "      <td>0.779200</td>\n",
              "      <td>0.773807</td>\n",
              "      <td>01:06</td>\n",
              "    </tr>\n",
              "  </tbody>\n",
              "</table>"
            ],
            "text/plain": [
              "<IPython.core.display.HTML object>"
            ]
          },
          "metadata": {
            "tags": []
          }
        }
      ]
    },
    {
      "cell_type": "code",
      "metadata": {
        "colab_type": "code",
        "id": "xkEenI4UHv9O",
        "colab": {}
      },
      "source": [
        "learn.save('fwd_clas')"
      ],
      "execution_count": 80,
      "outputs": []
    },
    {
      "cell_type": "markdown",
      "metadata": {
        "id": "wVRxeC9Uf89n",
        "colab_type": "text"
      },
      "source": [
        "Repeating the same steps for the backward classifier using the backwards encoder and appropriate data"
      ]
    },
    {
      "cell_type": "code",
      "metadata": {
        "colab_type": "code",
        "id": "TyfB6y-qIcXB",
        "colab": {}
      },
      "source": [
        "learn_bwd = text_classifier_learner(data_clas_bwd, AWD_LSTM, drop_mult=0.5, pretrained=False)\n",
        "learn_bwd.load_encoder('bwd_enc')\n",
        "recall = Recall(average='macro')\n",
        "precision = Precision(average='macro')\n",
        "learn_bwd.metrics=[accuracy, recall, precision]"
      ],
      "execution_count": 81,
      "outputs": []
    },
    {
      "cell_type": "code",
      "metadata": {
        "colab_type": "code",
        "id": "OJLnGZbxIgTh",
        "colab": {
          "base_uri": "https://localhost:8080/",
          "height": 77
        },
        "outputId": "4584af0d-446a-463a-9c41-177e7e4db74d"
      },
      "source": [
        "learn_bwd.fit_one_cycle(1, lr, moms=(0.8,0.7), wd=0.1)"
      ],
      "execution_count": 82,
      "outputs": [
        {
          "output_type": "display_data",
          "data": {
            "text/html": [
              "<table border=\"1\" class=\"dataframe\">\n",
              "  <thead>\n",
              "    <tr style=\"text-align: left;\">\n",
              "      <th>epoch</th>\n",
              "      <th>train_loss</th>\n",
              "      <th>valid_loss</th>\n",
              "      <th>accuracy</th>\n",
              "      <th>recall</th>\n",
              "      <th>precision</th>\n",
              "      <th>time</th>\n",
              "    </tr>\n",
              "  </thead>\n",
              "  <tbody>\n",
              "    <tr>\n",
              "      <td>0</td>\n",
              "      <td>0.775463</td>\n",
              "      <td>0.598522</td>\n",
              "      <td>0.755464</td>\n",
              "      <td>0.587152</td>\n",
              "      <td>0.738749</td>\n",
              "      <td>00:29</td>\n",
              "    </tr>\n",
              "  </tbody>\n",
              "</table>"
            ],
            "text/plain": [
              "<IPython.core.display.HTML object>"
            ]
          },
          "metadata": {
            "tags": []
          }
        }
      ]
    },
    {
      "cell_type": "code",
      "metadata": {
        "colab_type": "code",
        "id": "vZit0DpUIkgN",
        "colab": {
          "base_uri": "https://localhost:8080/",
          "height": 77
        },
        "outputId": "ca5540e6-3bd5-4043-b926-c575dadf6458"
      },
      "source": [
        "learn_bwd.freeze_to(-2)\n",
        "lr /= 2\n",
        "learn_bwd.fit_one_cycle(1, slice(lr/(2.6**4),lr), moms=(0.8,0.7), wd=0.1)"
      ],
      "execution_count": 83,
      "outputs": [
        {
          "output_type": "display_data",
          "data": {
            "text/html": [
              "<table border=\"1\" class=\"dataframe\">\n",
              "  <thead>\n",
              "    <tr style=\"text-align: left;\">\n",
              "      <th>epoch</th>\n",
              "      <th>train_loss</th>\n",
              "      <th>valid_loss</th>\n",
              "      <th>accuracy</th>\n",
              "      <th>recall</th>\n",
              "      <th>precision</th>\n",
              "      <th>time</th>\n",
              "    </tr>\n",
              "  </thead>\n",
              "  <tbody>\n",
              "    <tr>\n",
              "      <td>0</td>\n",
              "      <td>0.646289</td>\n",
              "      <td>0.549648</td>\n",
              "      <td>0.778689</td>\n",
              "      <td>0.633907</td>\n",
              "      <td>0.761489</td>\n",
              "      <td>00:33</td>\n",
              "    </tr>\n",
              "  </tbody>\n",
              "</table>"
            ],
            "text/plain": [
              "<IPython.core.display.HTML object>"
            ]
          },
          "metadata": {
            "tags": []
          }
        }
      ]
    },
    {
      "cell_type": "code",
      "metadata": {
        "colab_type": "code",
        "id": "zubbb8KCInh0",
        "colab": {
          "base_uri": "https://localhost:8080/",
          "height": 106
        },
        "outputId": "caa58f98-6386-4214-a5d2-abd41ff05a3e"
      },
      "source": [
        "learn_bwd.unfreeze()\n",
        "lr /= 5\n",
        "learn_bwd.fit_one_cycle(2, slice(lr/(2.6**4),lr), moms=(0.8,0.7), wd=0.1)"
      ],
      "execution_count": 84,
      "outputs": [
        {
          "output_type": "display_data",
          "data": {
            "text/html": [
              "<table border=\"1\" class=\"dataframe\">\n",
              "  <thead>\n",
              "    <tr style=\"text-align: left;\">\n",
              "      <th>epoch</th>\n",
              "      <th>train_loss</th>\n",
              "      <th>valid_loss</th>\n",
              "      <th>accuracy</th>\n",
              "      <th>recall</th>\n",
              "      <th>precision</th>\n",
              "      <th>time</th>\n",
              "    </tr>\n",
              "  </thead>\n",
              "  <tbody>\n",
              "    <tr>\n",
              "      <td>0</td>\n",
              "      <td>0.643876</td>\n",
              "      <td>0.518832</td>\n",
              "      <td>0.798839</td>\n",
              "      <td>0.673555</td>\n",
              "      <td>0.777794</td>\n",
              "      <td>01:06</td>\n",
              "    </tr>\n",
              "    <tr>\n",
              "      <td>1</td>\n",
              "      <td>0.569423</td>\n",
              "      <td>0.497098</td>\n",
              "      <td>0.811817</td>\n",
              "      <td>0.713857</td>\n",
              "      <td>0.772440</td>\n",
              "      <td>01:06</td>\n",
              "    </tr>\n",
              "  </tbody>\n",
              "</table>"
            ],
            "text/plain": [
              "<IPython.core.display.HTML object>"
            ]
          },
          "metadata": {
            "tags": []
          }
        }
      ]
    },
    {
      "cell_type": "code",
      "metadata": {
        "colab_type": "code",
        "id": "1t_zRXeNIsmo",
        "colab": {}
      },
      "source": [
        "learn_bwd.save('bwd_clas')"
      ],
      "execution_count": 85,
      "outputs": []
    },
    {
      "cell_type": "markdown",
      "metadata": {
        "id": "jReMer5Bf8-I",
        "colab_type": "text"
      },
      "source": [
        "## Ensembling the two models\n",
        "\n",
        "For the final results, I take the average of the predictions of the forward and the backward models and calculate the final accuracy of the model."
      ]
    },
    {
      "cell_type": "code",
      "metadata": {
        "colab_type": "code",
        "id": "5-XOOUJZIvFq",
        "colab": {
          "base_uri": "https://localhost:8080/",
          "height": 17
        },
        "outputId": "1630aa72-3029-406c-ad64-a1b510b18b34"
      },
      "source": [
        "pred_fwd,lbl_fwd = learn.get_preds(ordered=True)"
      ],
      "execution_count": 86,
      "outputs": [
        {
          "output_type": "display_data",
          "data": {
            "text/html": [
              ""
            ],
            "text/plain": [
              "<IPython.core.display.HTML object>"
            ]
          },
          "metadata": {
            "tags": []
          }
        }
      ]
    },
    {
      "cell_type": "code",
      "metadata": {
        "colab_type": "code",
        "id": "U7VYYb2aIyes",
        "colab": {
          "base_uri": "https://localhost:8080/",
          "height": 17
        },
        "outputId": "154b185a-038c-448f-ba07-c2f1c6e6fd9c"
      },
      "source": [
        "pred_bwd,lbl_bwd = learn_bwd.get_preds(ordered=True)"
      ],
      "execution_count": 87,
      "outputs": [
        {
          "output_type": "display_data",
          "data": {
            "text/html": [
              ""
            ],
            "text/plain": [
              "<IPython.core.display.HTML object>"
            ]
          },
          "metadata": {
            "tags": []
          }
        }
      ]
    },
    {
      "cell_type": "code",
      "metadata": {
        "colab_type": "code",
        "id": "8W1pHGnQI1Mh",
        "colab": {}
      },
      "source": [
        "final_pred = (pred_fwd+pred_bwd)/2"
      ],
      "execution_count": 88,
      "outputs": []
    },
    {
      "cell_type": "code",
      "metadata": {
        "colab_type": "code",
        "id": "yvMBp9EyI6wn",
        "colab": {
          "base_uri": "https://localhost:8080/",
          "height": 34
        },
        "outputId": "61454f85-25ea-403c-9d87-40a09c4599ee"
      },
      "source": [
        "accuracy(final_pred, lbl_fwd)"
      ],
      "execution_count": 89,
      "outputs": [
        {
          "output_type": "execute_result",
          "data": {
            "text/plain": [
              "tensor(0.8422)"
            ]
          },
          "metadata": {
            "tags": []
          },
          "execution_count": 89
        }
      ]
    },
    {
      "cell_type": "markdown",
      "metadata": {
        "id": "41lF13_uf8-z",
        "colab_type": "text"
      },
      "source": [
        "## Results\n",
        "\n",
        "I have chosen accuracy for the evaluation metric of the model as it is fairly descriptive of the performance of the system, it allows me to compare my model with other models since it is the most commonly used metric with similar models and for this dataset as well.\n",
        "\n",
        "The accuracy of the model comes to be around <b>84.22%</b> which beats our benchmark of 60% set earlier which proves that the model is able to handle the imbalance in sentiments from the dataset. It is also a good accuracy when compared with other models available on Kaggle at https://www.kaggle.com/crowdflower/twitter-airline-sentiment/notebooks as well as comparable to the results achieved by Sandra Faltl, Michael Schimpke & Constantin Hackober at Humboldt Universitat Zu Berlin who acheive an accuracy of 84.1% in https://humboldt-wi.github.io/blog/research/information_systems_1819/group4_ulmfit/#extresults.\n",
        "\n",
        "The model's result is also significantly lower than the performance of other datasets such as IMDB movie reviews dataset which achieves a whopping 95% accuracy. This is probably owing to the larger batch size (bs) and the higher backpropogation-through-time (bptt)\n",
        "\n",
        "### Further improvements can be tested in the model by:\n",
        " <ul> \n",
        "    <li>Applying different techniques in for preprocessing the data. There are some intrinsic problems with the raw data on kaggle which are highlighted in https://www.kaggle.com/crowdflower/twitter-airline-sentiment/discussion/32636 which if cleaned could further improve the model.</li>\n",
        " <li>Further tinkering with the learning rates and other hyper-parameters could be an obvious idea to finding a better fine-tuned  model with a higher accuracy.</li>\n",
        " <li> Dealing with the class imbalance by using weighted loss or over/undersampling the data also has potential for improving the result.</li>\n",
        "</ul>"
      ]
    }
  ]
}